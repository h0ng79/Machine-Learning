{
  "nbformat": 4,
  "nbformat_minor": 0,
  "metadata": {
    "colab": {
      "provenance": []
    },
    "kernelspec": {
      "name": "python3",
      "display_name": "Python 3"
    },
    "language_info": {
      "name": "python"
    }
  },
  "cells": [
    {
      "cell_type": "code",
      "execution_count": null,
      "metadata": {
        "id": "fEyQytBawFOa"
      },
      "outputs": [],
      "source": [
        "from sklearn.linear_model import LinearRegression\n",
        "import numpy as np\n",
        "import pandas as pd\n",
        "import matplotlib.pyplot as plt"
      ]
    },
    {
      "cell_type": "code",
      "source": [
        "from google.colab import drive\n",
        "drive.mount('/content/drive')"
      ],
      "metadata": {
        "colab": {
          "base_uri": "https://localhost:8080/"
        },
        "id": "ohfSDvz7wc12",
        "outputId": "8cf71f51-7107-41ee-84e0-870957406e03"
      },
      "execution_count": null,
      "outputs": [
        {
          "output_type": "stream",
          "name": "stdout",
          "text": [
            "Drive already mounted at /content/drive; to attempt to forcibly remount, call drive.mount(\"/content/drive\", force_remount=True).\n"
          ]
        }
      ]
    },
    {
      "cell_type": "code",
      "source": [
        "data = pd.read_csv(\"/content/drive/My Drive/COMAP2022/stl-bchain.csv\")\n",
        "data"
      ],
      "metadata": {
        "colab": {
          "base_uri": "https://localhost:8080/",
          "height": 423
        },
        "id": "8BlJ0p28wmCE",
        "outputId": "164de670-3c91-483a-a8bd-fc29bdbe227d"
      },
      "execution_count": null,
      "outputs": [
        {
          "output_type": "execute_result",
          "data": {
            "text/html": [
              "\n",
              "  <div id=\"df-2d68aa9c-f463-4b0b-af27-b49ffae45506\">\n",
              "    <div class=\"colab-df-container\">\n",
              "      <div>\n",
              "<style scoped>\n",
              "    .dataframe tbody tr th:only-of-type {\n",
              "        vertical-align: middle;\n",
              "    }\n",
              "\n",
              "    .dataframe tbody tr th {\n",
              "        vertical-align: top;\n",
              "    }\n",
              "\n",
              "    .dataframe thead th {\n",
              "        text-align: right;\n",
              "    }\n",
              "</style>\n",
              "<table border=\"1\" class=\"dataframe\">\n",
              "  <thead>\n",
              "    <tr style=\"text-align: right;\">\n",
              "      <th></th>\n",
              "      <th>Date</th>\n",
              "      <th>Value</th>\n",
              "      <th>trend</th>\n",
              "      <th>seasonal</th>\n",
              "      <th>Day of week</th>\n",
              "      <th>Return</th>\n",
              "      <th>up_down</th>\n",
              "      <th>Minimum</th>\n",
              "      <th>Maximum</th>\n",
              "    </tr>\n",
              "  </thead>\n",
              "  <tbody>\n",
              "    <tr>\n",
              "      <th>0</th>\n",
              "      <td>2016-09-11</td>\n",
              "      <td>621.65</td>\n",
              "      <td>611.382418</td>\n",
              "      <td>5.197696</td>\n",
              "      <td>7</td>\n",
              "      <td>NaN</td>\n",
              "      <td>0</td>\n",
              "      <td>621.65</td>\n",
              "      <td>621.65</td>\n",
              "    </tr>\n",
              "    <tr>\n",
              "      <th>1</th>\n",
              "      <td>2016-09-12</td>\n",
              "      <td>609.67</td>\n",
              "      <td>611.267635</td>\n",
              "      <td>0.202148</td>\n",
              "      <td>1</td>\n",
              "      <td>-0.019271</td>\n",
              "      <td>0</td>\n",
              "      <td>607.04</td>\n",
              "      <td>611.58</td>\n",
              "    </tr>\n",
              "    <tr>\n",
              "      <th>2</th>\n",
              "      <td>2016-09-13</td>\n",
              "      <td>610.92</td>\n",
              "      <td>611.615960</td>\n",
              "      <td>-0.121453</td>\n",
              "      <td>2</td>\n",
              "      <td>0.002050</td>\n",
              "      <td>1</td>\n",
              "      <td>607.04</td>\n",
              "      <td>611.58</td>\n",
              "    </tr>\n",
              "    <tr>\n",
              "      <th>3</th>\n",
              "      <td>2016-09-14</td>\n",
              "      <td>608.82</td>\n",
              "      <td>610.649613</td>\n",
              "      <td>-0.657500</td>\n",
              "      <td>3</td>\n",
              "      <td>-0.003437</td>\n",
              "      <td>0</td>\n",
              "      <td>607.04</td>\n",
              "      <td>611.58</td>\n",
              "    </tr>\n",
              "    <tr>\n",
              "      <th>4</th>\n",
              "      <td>2016-09-15</td>\n",
              "      <td>610.38</td>\n",
              "      <td>609.923658</td>\n",
              "      <td>-1.226896</td>\n",
              "      <td>4</td>\n",
              "      <td>0.002562</td>\n",
              "      <td>1</td>\n",
              "      <td>607.04</td>\n",
              "      <td>611.58</td>\n",
              "    </tr>\n",
              "    <tr>\n",
              "      <th>...</th>\n",
              "      <td>...</td>\n",
              "      <td>...</td>\n",
              "      <td>...</td>\n",
              "      <td>...</td>\n",
              "      <td>...</td>\n",
              "      <td>...</td>\n",
              "      <td>...</td>\n",
              "      <td>...</td>\n",
              "      <td>...</td>\n",
              "    </tr>\n",
              "    <tr>\n",
              "      <th>1821</th>\n",
              "      <td>2021-09-06</td>\n",
              "      <td>51769.06</td>\n",
              "      <td>49974.612095</td>\n",
              "      <td>1048.831788</td>\n",
              "      <td>1</td>\n",
              "      <td>0.036472</td>\n",
              "      <td>1</td>\n",
              "      <td>0.00</td>\n",
              "      <td>0.00</td>\n",
              "    </tr>\n",
              "    <tr>\n",
              "      <th>1822</th>\n",
              "      <td>2021-09-07</td>\n",
              "      <td>52677.40</td>\n",
              "      <td>49381.269650</td>\n",
              "      <td>1755.088978</td>\n",
              "      <td>2</td>\n",
              "      <td>0.017546</td>\n",
              "      <td>1</td>\n",
              "      <td>0.00</td>\n",
              "      <td>0.00</td>\n",
              "    </tr>\n",
              "    <tr>\n",
              "      <th>1823</th>\n",
              "      <td>2021-09-08</td>\n",
              "      <td>46809.17</td>\n",
              "      <td>48821.899912</td>\n",
              "      <td>-1301.098269</td>\n",
              "      <td>3</td>\n",
              "      <td>-0.111399</td>\n",
              "      <td>0</td>\n",
              "      <td>0.00</td>\n",
              "      <td>0.00</td>\n",
              "    </tr>\n",
              "    <tr>\n",
              "      <th>1824</th>\n",
              "      <td>2021-09-09</td>\n",
              "      <td>46078.38</td>\n",
              "      <td>49079.883855</td>\n",
              "      <td>-1695.471405</td>\n",
              "      <td>4</td>\n",
              "      <td>-0.015612</td>\n",
              "      <td>0</td>\n",
              "      <td>0.00</td>\n",
              "      <td>0.00</td>\n",
              "    </tr>\n",
              "    <tr>\n",
              "      <th>1825</th>\n",
              "      <td>2021-09-10</td>\n",
              "      <td>46368.69</td>\n",
              "      <td>48990.041882</td>\n",
              "      <td>-1298.871159</td>\n",
              "      <td>5</td>\n",
              "      <td>0.006300</td>\n",
              "      <td>1</td>\n",
              "      <td>0.00</td>\n",
              "      <td>0.00</td>\n",
              "    </tr>\n",
              "  </tbody>\n",
              "</table>\n",
              "<p>1826 rows × 9 columns</p>\n",
              "</div>\n",
              "      <button class=\"colab-df-convert\" onclick=\"convertToInteractive('df-2d68aa9c-f463-4b0b-af27-b49ffae45506')\"\n",
              "              title=\"Convert this dataframe to an interactive table.\"\n",
              "              style=\"display:none;\">\n",
              "        \n",
              "  <svg xmlns=\"http://www.w3.org/2000/svg\" height=\"24px\"viewBox=\"0 0 24 24\"\n",
              "       width=\"24px\">\n",
              "    <path d=\"M0 0h24v24H0V0z\" fill=\"none\"/>\n",
              "    <path d=\"M18.56 5.44l.94 2.06.94-2.06 2.06-.94-2.06-.94-.94-2.06-.94 2.06-2.06.94zm-11 1L8.5 8.5l.94-2.06 2.06-.94-2.06-.94L8.5 2.5l-.94 2.06-2.06.94zm10 10l.94 2.06.94-2.06 2.06-.94-2.06-.94-.94-2.06-.94 2.06-2.06.94z\"/><path d=\"M17.41 7.96l-1.37-1.37c-.4-.4-.92-.59-1.43-.59-.52 0-1.04.2-1.43.59L10.3 9.45l-7.72 7.72c-.78.78-.78 2.05 0 2.83L4 21.41c.39.39.9.59 1.41.59.51 0 1.02-.2 1.41-.59l7.78-7.78 2.81-2.81c.8-.78.8-2.07 0-2.86zM5.41 20L4 18.59l7.72-7.72 1.47 1.35L5.41 20z\"/>\n",
              "  </svg>\n",
              "      </button>\n",
              "      \n",
              "  <style>\n",
              "    .colab-df-container {\n",
              "      display:flex;\n",
              "      flex-wrap:wrap;\n",
              "      gap: 12px;\n",
              "    }\n",
              "\n",
              "    .colab-df-convert {\n",
              "      background-color: #E8F0FE;\n",
              "      border: none;\n",
              "      border-radius: 50%;\n",
              "      cursor: pointer;\n",
              "      display: none;\n",
              "      fill: #1967D2;\n",
              "      height: 32px;\n",
              "      padding: 0 0 0 0;\n",
              "      width: 32px;\n",
              "    }\n",
              "\n",
              "    .colab-df-convert:hover {\n",
              "      background-color: #E2EBFA;\n",
              "      box-shadow: 0px 1px 2px rgba(60, 64, 67, 0.3), 0px 1px 3px 1px rgba(60, 64, 67, 0.15);\n",
              "      fill: #174EA6;\n",
              "    }\n",
              "\n",
              "    [theme=dark] .colab-df-convert {\n",
              "      background-color: #3B4455;\n",
              "      fill: #D2E3FC;\n",
              "    }\n",
              "\n",
              "    [theme=dark] .colab-df-convert:hover {\n",
              "      background-color: #434B5C;\n",
              "      box-shadow: 0px 1px 3px 1px rgba(0, 0, 0, 0.15);\n",
              "      filter: drop-shadow(0px 1px 2px rgba(0, 0, 0, 0.3));\n",
              "      fill: #FFFFFF;\n",
              "    }\n",
              "  </style>\n",
              "\n",
              "      <script>\n",
              "        const buttonEl =\n",
              "          document.querySelector('#df-2d68aa9c-f463-4b0b-af27-b49ffae45506 button.colab-df-convert');\n",
              "        buttonEl.style.display =\n",
              "          google.colab.kernel.accessAllowed ? 'block' : 'none';\n",
              "\n",
              "        async function convertToInteractive(key) {\n",
              "          const element = document.querySelector('#df-2d68aa9c-f463-4b0b-af27-b49ffae45506');\n",
              "          const dataTable =\n",
              "            await google.colab.kernel.invokeFunction('convertToInteractive',\n",
              "                                                     [key], {});\n",
              "          if (!dataTable) return;\n",
              "\n",
              "          const docLinkHtml = 'Like what you see? Visit the ' +\n",
              "            '<a target=\"_blank\" href=https://colab.research.google.com/notebooks/data_table.ipynb>data table notebook</a>'\n",
              "            + ' to learn more about interactive tables.';\n",
              "          element.innerHTML = '';\n",
              "          dataTable['output_type'] = 'display_data';\n",
              "          await google.colab.output.renderOutput(dataTable, element);\n",
              "          const docLink = document.createElement('div');\n",
              "          docLink.innerHTML = docLinkHtml;\n",
              "          element.appendChild(docLink);\n",
              "        }\n",
              "      </script>\n",
              "    </div>\n",
              "  </div>\n",
              "  "
            ],
            "text/plain": [
              "            Date     Value         trend  ...  up_down  Minimum  Maximum\n",
              "0     2016-09-11    621.65    611.382418  ...        0   621.65   621.65\n",
              "1     2016-09-12    609.67    611.267635  ...        0   607.04   611.58\n",
              "2     2016-09-13    610.92    611.615960  ...        1   607.04   611.58\n",
              "3     2016-09-14    608.82    610.649613  ...        0   607.04   611.58\n",
              "4     2016-09-15    610.38    609.923658  ...        1   607.04   611.58\n",
              "...          ...       ...           ...  ...      ...      ...      ...\n",
              "1821  2021-09-06  51769.06  49974.612095  ...        1     0.00     0.00\n",
              "1822  2021-09-07  52677.40  49381.269650  ...        1     0.00     0.00\n",
              "1823  2021-09-08  46809.17  48821.899912  ...        0     0.00     0.00\n",
              "1824  2021-09-09  46078.38  49079.883855  ...        0     0.00     0.00\n",
              "1825  2021-09-10  46368.69  48990.041882  ...        1     0.00     0.00\n",
              "\n",
              "[1826 rows x 9 columns]"
            ]
          },
          "metadata": {},
          "execution_count": 59
        }
      ]
    },
    {
      "cell_type": "code",
      "source": [
        "data.columns"
      ],
      "metadata": {
        "colab": {
          "base_uri": "https://localhost:8080/"
        },
        "id": "aJCS6Gexwnln",
        "outputId": "0f6417e5-e357-4390-cb0a-624e1bb1e924"
      },
      "execution_count": null,
      "outputs": [
        {
          "output_type": "execute_result",
          "data": {
            "text/plain": [
              "Index(['Date', 'Value', 'trend', 'seasonal', 'Day of week', 'Return',\n",
              "       'up_down', 'Minimum', 'Maximum'],\n",
              "      dtype='object')"
            ]
          },
          "metadata": {},
          "execution_count": 60
        }
      ]
    },
    {
      "cell_type": "code",
      "source": [
        "plt.ylabel(\"BITCOIN\")\n",
        "\n",
        "# Setting the size of our graph\n",
        "data.Value.plot(figsize=(10,5))"
      ],
      "metadata": {
        "colab": {
          "base_uri": "https://localhost:8080/",
          "height": 338
        },
        "id": "SvmdcsGyw1SP",
        "outputId": "b48a4693-08e4-4d1f-edda-ce1c93ad7289"
      },
      "execution_count": null,
      "outputs": [
        {
          "output_type": "execute_result",
          "data": {
            "text/plain": [
              "<matplotlib.axes._subplots.AxesSubplot at 0x7f659c3c6210>"
            ]
          },
          "metadata": {},
          "execution_count": 61
        },
        {
          "output_type": "display_data",
          "data": {
            "image/png": "[encoded data removed]",
            "text/plain": [
              "<Figure size 720x360 with 1 Axes>"
            ]
          },
          "metadata": {
            "needs_background": "light"
          }
        }
      ]
    },
    {
      "cell_type": "code",
      "source": [
        "X=data[['trend', 'seasonal', 'Day of week',\n",
        "       'up_down', 'Minimum', 'Maximum']]"
      ],
      "metadata": {
        "id": "tUgCd0Tewwve"
      },
      "execution_count": null,
      "outputs": []
    },
    {
      "cell_type": "code",
      "source": [
        "data['MA3'] = data['Value'].shift(1).rolling(window=3).mean()\n",
        "data['MA9']= data['Value'].shift(1).rolling(window=9).mean()"
      ],
      "metadata": {
        "id": "FrRZrC6yxHLc"
      },
      "execution_count": null,
      "outputs": []
    },
    {
      "cell_type": "code",
      "source": [
        "data = data.dropna()"
      ],
      "metadata": {
        "id": "wzUrCMGrxPEB"
      },
      "execution_count": null,
      "outputs": []
    },
    {
      "cell_type": "code",
      "source": [
        "y = data['Value']"
      ],
      "metadata": {
        "id": "FgkGCZCXxrP3"
      },
      "execution_count": null,
      "outputs": []
    },
    {
      "cell_type": "code",
      "source": [
        "training = 0.8\n",
        "t = int(training*len(data))\n",
        "\n",
        "# Training dataset\n",
        "X_train = X[:t]\n",
        "y_train = y[:t]\n",
        "\n",
        "# Testing dataset\n",
        "X_test = X[t:]\n",
        "y_test = y[t:]"
      ],
      "metadata": {
        "id": "DMizZsb1xRgt"
      },
      "execution_count": null,
      "outputs": []
    },
    {
      "cell_type": "code",
      "source": [
        "model = LinearRegression().fit(X_train,y_train)"
      ],
      "metadata": {
        "id": "rT97N4pXx1wV"
      },
      "execution_count": null,
      "outputs": []
    },
    {
      "cell_type": "code",
      "source": [
        "predicted_price = model.predict(X_test)\n",
        "predicted_price = pd.DataFrame(predicted_price,index=y_test.index,columns = ['price'])\n",
        "predicted_price.plot(figsize=(10,5))\n",
        "y_test.plot()\n",
        "plt.legend(['Predicted Price','Actual Price'])\n",
        "plt.ylabel(\"BTC\")\n",
        "plt.show()"
      ],
      "metadata": {
        "colab": {
          "base_uri": "https://localhost:8080/",
          "height": 320
        },
        "id": "k7BbsWECx6V-",
        "outputId": "b2659fb0-befb-4eb3-b868-6a7cda4ea9de"
      },
      "execution_count": null,
      "outputs": [
        {
          "output_type": "display_data",
          "data": {
            "image/png": "[encoded data removed]",
            "text/plain": [
              "<Figure size 720x360 with 1 Axes>"
            ]
          },
          "metadata": {
            "needs_background": "light"
          }
        }
      ]
    },
    {
      "cell_type": "code",
      "source": [
        " #Computing the accuracy of our model\n",
        "R_squared_score =model.score(X[t:],y[t:])*100\n",
        "accuracy = (\"{0:.2f}\".format(R_squared_score))\n",
        "print (\"The model has a \" + accuracy + \"% accuracy.\")\n",
        "print(R_squared_score)"
      ],
      "metadata": {
        "colab": {
          "base_uri": "https://localhost:8080/"
        },
        "id": "fRGGqHnnx-m7",
        "outputId": "ac299734-09be-408b-d251-b1b7ae1f3b66"
      },
      "execution_count": null,
      "outputs": [
        {
          "output_type": "stream",
          "name": "stdout",
          "text": [
            "The model has a 99.49% accuracy.\n",
            "99.49083099578672\n"
          ]
        }
      ]
    },
    {
      "cell_type": "code",
      "source": [
        "# Logictic Regression\n",
        "from sklearn.linear_model import LogisticRegression\n",
        "from sklearn.tree import DecisionTreeRegressor"
      ],
      "metadata": {
        "id": "7FcsNOlF7K-b"
      },
      "execution_count": null,
      "outputs": []
    },
    {
      "cell_type": "code",
      "source": [
        "result = DecisionTreeRegressor(\n",
        "            max_depth=8)\n",
        "model2=result.fit(X_train, y_train)"
      ],
      "metadata": {
        "id": "JncfOlrG7xme"
      },
      "execution_count": null,
      "outputs": []
    },
    {
      "cell_type": "code",
      "source": [
        "R_squared_score =model2.score(X[t:],y[t:])*100\n",
        "accuracy = (\"{0:.2f}\".format(R_squared_score))\n",
        "print (\"The model has a \" + accuracy + \"% accuracy.\")\n",
        "print(R_squared_score)"
      ],
      "metadata": {
        "colab": {
          "base_uri": "https://localhost:8080/"
        },
        "id": "Kfupg-ksE2CA",
        "outputId": "185fe11a-5456-461d-8270-a96aa66fdd7d"
      },
      "execution_count": null,
      "outputs": [
        {
          "output_type": "stream",
          "name": "stdout",
          "text": [
            "The model has a -105.61% accuracy.\n",
            "-105.60674461974591\n"
          ]
        }
      ]
    },
    {
      "cell_type": "code",
      "source": [
        "from sklearn.ensemble import RandomForestRegressor\n",
        "result1 = RandomForestRegressor(\n",
        "            n_estimators=10000, oob_score=True, max_depth=8)\n",
        "model1=result1.fit(X_train, y_train)\n",
        "R_squared_score =model1.score(X[t:],y[t:])*100\n",
        "accuracy = (\"{0:.2f}\".format(R_squared_score))\n",
        "print (\"The model has a \" + accuracy + \"% accuracy.\")\n",
        "print(R_squared_score)"
      ],
      "metadata": {
        "colab": {
          "base_uri": "https://localhost:8080/"
        },
        "id": "FKTGU_uiFBCE",
        "outputId": "17da0fde-1b3a-45ce-a5dc-77d60fbaa5dd"
      },
      "execution_count": null,
      "outputs": [
        {
          "output_type": "stream",
          "name": "stdout",
          "text": [
            "The model has a -110.11% accuracy.\n",
            "-110.1134410892222\n"
          ]
        }
      ]
    },
    {
      "cell_type": "code",
      "source": [
        "from sklearn import svm\n",
        "result = svm.SVR(kernel=\"linear\")\n",
        "        #  {'linear', 'poly', 'rbf', 'sigmoid', 'precomputed'}\n",
        "model3=result.fit(X_train, y_train)\n",
        "R_squared_score =model3.score(X[t:],y[t:])*100\n",
        "accuracy = (\"{0:.2f}\".format(R_squared_score))\n",
        "print (\"The model has a \" + accuracy + \"% accuracy.\")\n",
        "print(R_squared_score)"
      ],
      "metadata": {
        "colab": {
          "base_uri": "https://localhost:8080/"
        },
        "id": "vNODmagHF3-i",
        "outputId": "6369d84a-f5ce-485e-91a6-ccde3b2f2cc9"
      },
      "execution_count": null,
      "outputs": [
        {
          "output_type": "stream",
          "name": "stdout",
          "text": [
            "The model has a 99.31% accuracy.\n",
            "99.31459742587836\n"
          ]
        }
      ]
    },
    {
      "cell_type": "code",
      "source": [
        "from xgboost import XGBRegressor\n",
        "result = XGBRegressor(\n",
        "            objective='reg:squarederror', n_estimators=10000, max_depth=8)\n",
        "model4=result.fit(X_train, y_train)\n",
        "R_squared_score =model4.score(X[t:],y[t:])*100\n",
        "accuracy = (\"{0:.2f}\".format(R_squared_score))\n",
        "print (\"The model has a \" + accuracy + \"% accuracy.\")\n",
        "print(R_squared_score)"
      ],
      "metadata": {
        "colab": {
          "base_uri": "https://localhost:8080/"
        },
        "id": "AIMSsB4qHcLi",
        "outputId": "495ed7c1-d265-41e0-d0d7-7be047d36512"
      },
      "execution_count": null,
      "outputs": [
        {
          "output_type": "stream",
          "name": "stdout",
          "text": [
            "The model has a -109.10% accuracy.\n",
            "-109.09873551142017\n"
          ]
        }
      ]
    },
    {
      "cell_type": "code",
      "source": [
        "from lightgbm import LGBMRegressor\n",
        "result = LGBMRegressor(\n",
        "            max_depth=8, n_estimators=10000, learning_rate=0.001)\n",
        "Model5=result.fit(X_train, y_train)\n",
        "R_squared_score =Model5.score(X[t:],y[t:])*100\n",
        "accuracy = (\"{0:.2f}\".format(R_squared_score))\n",
        "print (\"The model has a \" + accuracy + \"% accuracy.\")\n",
        "print(R_squared_score)"
      ],
      "metadata": {
        "colab": {
          "base_uri": "https://localhost:8080/"
        },
        "id": "HBj-ZEGEH-pW",
        "outputId": "e1e7228d-d3ef-47ba-d07f-5d3917dd44b1"
      },
      "execution_count": null,
      "outputs": [
        {
          "output_type": "stream",
          "name": "stdout",
          "text": [
            "The model has a -144.35% accuracy.\n",
            "-144.34810723061707\n"
          ]
        }
      ]
    }
  ]
}