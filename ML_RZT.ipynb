{
  "nbformat": 4,
  "nbformat_minor": 0,
  "metadata": {
    "colab": {
      "provenance": []
    },
    "kernelspec": {
      "name": "python3",
      "display_name": "Python 3"
    },
    "language_info": {
      "name": "python"
    },
    "accelerator": "TPU"
  },
  "cells": [
    {
      "cell_type": "code",
      "execution_count": null,
      "metadata": {
        "id": "fEyQytBawFOa"
      },
      "outputs": [],
      "source": [
        "from sklearn.linear_model import LinearRegression\n",
        "import numpy as np\n",
        "import pandas as pd\n",
        "import matplotlib.pyplot as plt\n",
        "import pandas as pd\n",
        "import matplotlib.pyplot as plt\n",
        "import numpy as np\n",
        "\n",
        "from keras.models import Sequential\n",
        "from keras.layers.core import Dense, Dropout\n",
        "from tensorflow.keras.optimizers import SGD, Adagrad, RMSprop, Adam, Adadelta, Adamax,Nadam\n",
        "from keras.callbacks import Callback,CSVLogger\n",
        "from sklearn.metrics import mean_squared_error, mean_absolute_error\n",
        "from sklearn.preprocessing import MinMaxScaler,minmax_scale,normalize\n",
        "import timeit\n",
        "from sklearn import linear_model"
      ]
    },
    {
      "cell_type": "code",
      "source": [
        "from google.colab import drive\n",
        "drive.mount('/content/drive')"
      ],
      "metadata": {
        "colab": {
          "base_uri": "https://localhost:8080/"
        },
        "id": "ohfSDvz7wc12",
        "outputId": "a36210b9-f711-4751-cfd4-9d24dddec0ac"
      },
      "execution_count": null,
      "outputs": [
        {
          "output_type": "stream",
          "name": "stdout",
          "text": [
            "Mounted at /content/drive\n"
          ]
        }
      ]
    },
    {
      "cell_type": "code",
      "source": [
        "start = timeit.default_timer()\n",
        "dataframe = pd.read_csv('/content/drive/MyDrive/Research/data/dataset_InAndOutput_LaminatedPlate_RZT_Q9.csv')\n",
        "dataset = dataframe.values\n",
        "data = dataset[:, 0:51]\n",
        "scaler = MinMaxScaler()\n",
        "data = scaler.fit_transform(data)"
      ],
      "metadata": {
        "id": "aJCS6Gexwnln"
      },
      "execution_count": null,
      "outputs": []
    },
    {
      "cell_type": "code",
      "source": [
        "from sklearn.preprocessing import StandardScaler\n",
        "scaler = StandardScaler()\n",
        "data=scaler.fit_transform(data)"
      ],
      "metadata": {
        "id": "3dytyKyb6cPZ"
      },
      "execution_count": null,
      "outputs": []
    },
    {
      "cell_type": "code",
      "source": [
        "nb_set = 50000\n",
        "nb_test = int(nb_set*0.8)\n",
        "x_train = data[:nb_test,0:9]\n",
        "x_test  = data[nb_test:,0:9]\n",
        "print(np.shape(x_train))\n",
        "print('x_train = ', x_train)\n",
        "\n",
        "y_train = data[:nb_test,9:10]\n",
        "y_test  = data[nb_test:,9:10]\n",
        "print(np.shape(y_train))\n",
        "print('y_train = ',y_train)\n",
        "# x_train = x_train.reshape(x_train.shape[0], x_train.shape[1], -1)\n",
        "# x_test = x_test.reshape(x_test.shape[0], x_test.shape[1], -1)\n",
        "\n",
        "# y_train = y_train.reshape(y_train.shape[0], y_train.shape[1], -1)\n",
        "# y_test = y_test.reshape(y_test.shape[0], y_test.shape[1], -1)"
      ],
      "metadata": {
        "id": "DMizZsb1xRgt",
        "colab": {
          "base_uri": "https://localhost:8080/"
        },
        "outputId": "efbad3dc-ff26-4ebf-c9c6-b24e4fae655e"
      },
      "execution_count": null,
      "outputs": [
        {
          "output_type": "stream",
          "name": "stdout",
          "text": [
            "(40000, 9)\n",
            "x_train =  [[-0.66902128  1.17403603 -0.84538172 ...  1.22558856  0.48575205\n",
            "  -0.34380881]\n",
            " [ 1.043063   -0.59784384 -0.82612306 ...  0.94488427 -1.10960216\n",
            "  -1.01239033]\n",
            " [ 1.71635457  1.23181472 -0.36391513 ... -1.1212516   2.67557213\n",
            "   0.09099759]\n",
            " ...\n",
            " [-1.57315567  0.17253871  1.36936458 ...  1.33333923 -0.51979955\n",
            "   0.9823783 ]\n",
            " [-1.70781399 -0.90599686  0.75308735 ... -0.89085551  1.56660467\n",
            "  -0.62826944]\n",
            " [ 0.25435002 -1.67637942  0.69531136 ...  0.53070422 -1.1089439\n",
            "   0.41904924]]\n",
            "(40000, 1)\n",
            "y_train =  [[ 0.76191819]\n",
            " [-0.66672729]\n",
            " [-0.65293316]\n",
            " ...\n",
            " [ 1.21969778]\n",
            " [-0.66306072]\n",
            " [ 2.09781015]]\n"
          ]
        }
      ]
    },
    {
      "cell_type": "code",
      "source": [
        "model = LinearRegression().fit(x_train,y_train)"
      ],
      "metadata": {
        "id": "rT97N4pXx1wV"
      },
      "execution_count": null,
      "outputs": []
    },
    {
      "cell_type": "code",
      "source": [
        "predicted_price = model.predict(x_test)\n",
        "#predicted_price = pd.DataFrame(predicted_price,index=y_test.index,columns = ['price'])\n",
        "# predicted_price.plot(figsize=(10,5))\n",
        "# y_test.plot()\n",
        "# plt.legend(['Predicted Price','Actual Price'])\n",
        "# plt.ylabel(\"BTC\")\n",
        "# plt.show()\n",
        "print(predicted_price)"
      ],
      "metadata": {
        "colab": {
          "base_uri": "https://localhost:8080/"
        },
        "id": "k7BbsWECx6V-",
        "outputId": "20145ee3-75cc-45b6-a17c-d64c738a9a3f"
      },
      "execution_count": null,
      "outputs": [
        {
          "output_type": "stream",
          "name": "stdout",
          "text": [
            "[[ 0.7966708 ]\n",
            " [-0.50584317]\n",
            " [-0.72257298]\n",
            " ...\n",
            " [-0.37210067]\n",
            " [ 0.03222711]\n",
            " [-0.65245977]]\n"
          ]
        }
      ]
    },
    {
      "cell_type": "code",
      "source": [
        " #Computing the accuracy of our model\n",
        "R_squared_score =model.score(x_test,y_test)*100\n",
        "accuracy = (\"{0:.2f}\".format(R_squared_score))\n",
        "print (\"The model has a \" + accuracy + \"% accuracy.\")\n",
        "print(R_squared_score)"
      ],
      "metadata": {
        "colab": {
          "base_uri": "https://localhost:8080/"
        },
        "id": "fRGGqHnnx-m7",
        "outputId": "a8e4438b-add1-40eb-ff5f-4399e7a3a514"
      },
      "execution_count": null,
      "outputs": [
        {
          "output_type": "stream",
          "name": "stdout",
          "text": [
            "The model has a 43.17% accuracy.\n",
            "43.17147442258067\n"
          ]
        }
      ]
    },
    {
      "cell_type": "code",
      "source": [
        "# Logictic Regression\n",
        "from sklearn.linear_model import LogisticRegression\n",
        "from sklearn.tree import DecisionTreeRegressor"
      ],
      "metadata": {
        "id": "7FcsNOlF7K-b"
      },
      "execution_count": null,
      "outputs": []
    },
    {
      "cell_type": "code",
      "source": [
        "result = DecisionTreeRegressor(\n",
        "            max_depth=8,criterion=\"squared_error\")\n",
        "model2=result.fit(x_train, y_train)"
      ],
      "metadata": {
        "id": "JncfOlrG7xme"
      },
      "execution_count": null,
      "outputs": []
    },
    {
      "cell_type": "code",
      "source": [
        "R_squared_score =model2.score(x_test,y_test)*100\n",
        "accuracy = (\"{0:.2f}\".format(R_squared_score))\n",
        "print (\"The model has a \" + accuracy + \"% accuracy.\")\n",
        "print(R_squared_score)"
      ],
      "metadata": {
        "colab": {
          "base_uri": "https://localhost:8080/"
        },
        "id": "Kfupg-ksE2CA",
        "outputId": "7cf3957d-1cf0-4bd0-f083-634be8f6dcbd"
      },
      "execution_count": null,
      "outputs": [
        {
          "output_type": "stream",
          "name": "stdout",
          "text": [
            "The model has a 63.90% accuracy.\n",
            "63.903542945595035\n"
          ]
        }
      ]
    },
    {
      "cell_type": "code",
      "source": [
        "from sklearn.ensemble import RandomForestRegressor\n",
        "result1 = RandomForestRegressor(\n",
        "            n_estimators=1000, oob_score=True, max_depth=8)\n",
        "model1=result1.fit(x_train, y_train)\n",
        "R_squared_score =model1.score(x_test,y_test)*100\n",
        "accuracy = (\"{0:.2f}\".format(R_squared_score))\n",
        "print (\"The model has a \" + accuracy + \"% accuracy.\")\n",
        "print(R_squared_score)"
      ],
      "metadata": {
        "colab": {
          "base_uri": "https://localhost:8080/"
        },
        "id": "FKTGU_uiFBCE",
        "outputId": "a377f0d5-aec5-43a4-b788-6e8a6598dccd"
      },
      "execution_count": null,
      "outputs": [
        {
          "output_type": "stream",
          "name": "stderr",
          "text": [
            "/usr/local/lib/python3.7/dist-packages/ipykernel_launcher.py:4: DataConversionWarning: A column-vector y was passed when a 1d array was expected. Please change the shape of y to (n_samples,), for example using ravel().\n",
            "  after removing the cwd from sys.path.\n"
          ]
        },
        {
          "output_type": "stream",
          "name": "stdout",
          "text": [
            "The model has a 76.27% accuracy.\n",
            "76.27408422410687\n"
          ]
        }
      ]
    },
    {
      "cell_type": "code",
      "source": [
        "from sklearn import svm\n",
        "result = svm.SVR(kernel=\"linear\",tol=0.01)\n",
        "        #  {'linear', 'poly', 'rbf', 'sigmoid', 'precomputed'}\n",
        "model3=result.fit(x_train, y_train)\n",
        "R_squared_score =model3.score(x_test,y_test)*100\n",
        "accuracy = (\"{0:.2f}\".format(R_squared_score))\n",
        "print (\"The model has a \" + accuracy + \"% accuracy.\")\n",
        "print(R_squared_score)"
      ],
      "metadata": {
        "id": "vNODmagHF3-i",
        "colab": {
          "base_uri": "https://localhost:8080/"
        },
        "outputId": "a9e39721-ba44-4d40-8863-5ed74b262444"
      },
      "execution_count": null,
      "outputs": [
        {
          "output_type": "stream",
          "name": "stderr",
          "text": [
            "/usr/local/lib/python3.7/dist-packages/sklearn/utils/validation.py:993: DataConversionWarning: A column-vector y was passed when a 1d array was expected. Please change the shape of y to (n_samples, ), for example using ravel().\n",
            "  y = column_or_1d(y, warn=True)\n"
          ]
        },
        {
          "output_type": "stream",
          "name": "stdout",
          "text": [
            "The model has a 39.53% accuracy.\n",
            "39.53088063586121\n"
          ]
        }
      ]
    },
    {
      "cell_type": "code",
      "source": [
        "from xgboost import XGBRegressor\n",
        "result = XGBRegressor(\n",
        "            objective='reg:squarederror', n_estimators=1000, max_depth=8,learning_rate=0.1)\n",
        "model4=result.fit(x_train, y_train)\n",
        "R_squared_score =model4.score(x_test,y_test)*100\n",
        "accuracy = (\"{0:.2f}\".format(R_squared_score))\n",
        "print (\"The model has a \" + accuracy + \"% accuracy.\")\n",
        "print(R_squared_score)"
      ],
      "metadata": {
        "colab": {
          "base_uri": "https://localhost:8080/"
        },
        "id": "AIMSsB4qHcLi",
        "outputId": "376393dd-93c5-4594-d057-42c6f3b33b0e"
      },
      "execution_count": null,
      "outputs": [
        {
          "output_type": "stream",
          "name": "stdout",
          "text": [
            "The model has a 96.47% accuracy.\n",
            "96.46890886121002\n"
          ]
        }
      ]
    },
    {
      "cell_type": "code",
      "source": [
        "from lightgbm import LGBMRegressor\n",
        "result = LGBMRegressor(\n",
        "            max_depth=8, n_estimators=1000, learning_rate=0.1)\n",
        "Model5=result.fit(x_train, y_train)\n",
        "R_squared_score =Model5.score(x_test,y_test)\n",
        "accuracy = (\"{0:.2f}\".format(R_squared_score))\n",
        "print (\"The model has a \" + accuracy + \"% accuracy.\")\n",
        "print(R_squared_score)"
      ],
      "metadata": {
        "id": "HBj-ZEGEH-pW",
        "colab": {
          "base_uri": "https://localhost:8080/"
        },
        "outputId": "733ae38c-23dd-40ad-d3dc-0c3828a62837"
      },
      "execution_count": null,
      "outputs": [
        {
          "output_type": "stream",
          "name": "stderr",
          "text": [
            "/usr/local/lib/python3.7/dist-packages/sklearn/utils/validation.py:993: DataConversionWarning: A column-vector y was passed when a 1d array was expected. Please change the shape of y to (n_samples, ), for example using ravel().\n",
            "  y = column_or_1d(y, warn=True)\n"
          ]
        },
        {
          "output_type": "stream",
          "name": "stdout",
          "text": [
            "The model has a 0.98% accuracy.\n",
            "0.9806679730136986\n"
          ]
        }
      ]
    }
  ]
}